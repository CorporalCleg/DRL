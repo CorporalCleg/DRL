{
 "cells": [
  {
   "cell_type": "code",
   "execution_count": 1,
   "metadata": {},
   "outputs": [],
   "source": [
    "import torch\n",
    "import torch.nn as nn\n",
    "import torch.nn.functional as F\n",
    "import torch.optim as optim\n",
    "import gc"
   ]
  },
  {
   "cell_type": "markdown",
   "metadata": {},
   "source": [
    "## For using device you should know 2 things:\n",
    "- How to transit tensors/models to device\n",
    "- How to contol gpu memory (allocate/free)"
   ]
  },
  {
   "cell_type": "code",
   "execution_count": 2,
   "metadata": {},
   "outputs": [
    {
     "name": "stdout",
     "output_type": "stream",
     "text": [
      "cuda:0\n"
     ]
    }
   ],
   "source": [
    "#choose device: if there is \"cuda:0\", then env. you ready for teach with cuda \n",
    "device = torch.device('cuda:0' if torch.cuda.is_available() else 'cpu')\n",
    "print(device)"
   ]
  },
  {
   "cell_type": "code",
   "execution_count": 3,
   "metadata": {},
   "outputs": [
    {
     "name": "stdout",
     "output_type": "stream",
     "text": [
      "torch.cuda.memory_allocated: 0.000000GB\n"
     ]
    }
   ],
   "source": [
    "#this will show you size of allocated memory\n",
    "print(\"torch.cuda.memory_allocated: %fGB\"%(torch.cuda.memory_allocated(0)/1024/1024/1024))"
   ]
  },
  {
   "cell_type": "code",
   "execution_count": 4,
   "metadata": {},
   "outputs": [
    {
     "name": "stdout",
     "output_type": "stream",
     "text": [
      "tensor([1., 2., 3.], device='cuda:0') tensor([2., 3., 4.], device='cuda:0') tensor(20., device='cuda:0')\n"
     ]
    }
   ],
   "source": [
    "#next let's see how to compute calculations on device\n",
    "a = torch.Tensor([1, 2, 3]).to(device=device)\n",
    "b = torch.Tensor([2, 3, 4]).to(device=device)\n",
    "c = a @ b #compute dot product\n",
    "\n",
    "print(a, b, c)"
   ]
  },
  {
   "cell_type": "code",
   "execution_count": 5,
   "metadata": {},
   "outputs": [
    {
     "name": "stdout",
     "output_type": "stream",
     "text": [
      "torch.cuda.memory_allocated: 0.007936GB\n"
     ]
    }
   ],
   "source": [
    "print(\"torch.cuda.memory_allocated: %fGB\"%(torch.cuda.memory_allocated(0)/1024/1024/1024))"
   ]
  },
  {
   "cell_type": "markdown",
   "metadata": {},
   "source": [
    "### you just transit tensors on device, and automatically all computations take place on gpu"
   ]
  },
  {
   "cell_type": "code",
   "execution_count": 6,
   "metadata": {},
   "outputs": [],
   "source": [
    "class FCN(nn.Module):\n",
    "  def __init__(self, n_input, n_output, n_hidden=(32, 32), activation_fc=F.relu):\n",
    "    super(FCN, self).__init__()\n",
    "    self.input_layer = nn.Linear(n_input, n_hidden[0])\n",
    "    self.hidden_layers = nn.ModuleList([nn.Linear(n_hidden[i], n_hidden[i + 1]) for i in range(len(n_hidden) - 1)])\n",
    "    self.output_layer = nn.Linear(n_hidden[-1], n_output)\n",
    "    self.activation_fc = activation_fc\n",
    "\n",
    "  def forward(self, x):\n",
    "    x = self.activation_fc(self.input_layer(x))\n",
    "    for hidden_layer in self.hidden_layers:\n",
    "      x = self.activation_fc(hidden_layer(x))\n",
    "    x = self.output_layer(x)\n",
    "\n",
    "    return x"
   ]
  },
  {
   "cell_type": "code",
   "execution_count": 7,
   "metadata": {},
   "outputs": [],
   "source": [
    "train_features, train_lables = torch.Tensor([1, 2, 3]).to(device=device), torch.Tensor([2, 3]).to(device=device)\n",
    "\n",
    "net = FCN(3, 2).to(device=device)\n",
    "criterion = nn.MSELoss()\n",
    "optimizer = optim.SGD(net.parameters(), lr = 0.01)\n",
    "\n",
    "#make one learning step\n",
    "\n",
    "loss = criterion(train_lables, net(train_features))\n",
    "loss.backward()\n",
    "optimizer.step()"
   ]
  },
  {
   "cell_type": "code",
   "execution_count": 8,
   "metadata": {},
   "outputs": [
    {
     "name": "stdout",
     "output_type": "stream",
     "text": [
      "torch.cuda.memory_allocated: 0.015884GB\n"
     ]
    }
   ],
   "source": [
    "print(\"torch.cuda.memory_allocated: %fGB\"%(torch.cuda.memory_allocated(0)/1024/1024/1024))"
   ]
  },
  {
   "cell_type": "markdown",
   "metadata": {},
   "source": [
    "#### here ^^^ you can see that you also need to transit learning data to device"
   ]
  },
  {
   "cell_type": "markdown",
   "metadata": {},
   "source": [
    "# *PyTorch automatically clean memory, so usualy you need not to think about memory management*\n",
    " But there are guide, below this cell, how to contol memory"
   ]
  },
  {
   "cell_type": "markdown",
   "metadata": {},
   "source": [
    "## Next i'll show how to free memory; it's important, because you learning process will break, if your gpu get limit of memory\n",
    "#### there are two ways to clean gpu memory:\n",
    " - delete variables (rude way to relise memory(that use pytorch gc feature))\n",
    " - use empty_cache (naturall method to relise memory)"
   ]
  },
  {
   "cell_type": "code",
   "execution_count": 9,
   "metadata": {},
   "outputs": [
    {
     "name": "stdout",
     "output_type": "stream",
     "text": [
      "torch.cuda.memory_allocated: 0.015884GB\n"
     ]
    }
   ],
   "source": [
    "#lets look size of allocated memory\n",
    "print(\"torch.cuda.memory_allocated: %fGB\"%(torch.cuda.memory_allocated(0)/1024/1024/1024))"
   ]
  },
  {
   "cell_type": "code",
   "execution_count": 10,
   "metadata": {},
   "outputs": [
    {
     "name": "stdout",
     "output_type": "stream",
     "text": [
      "torch.cuda.memory_allocated: 0.015883GB\n"
     ]
    }
   ],
   "source": [
    "#first way to free memory\n",
    "del a\n",
    "del b\n",
    "del c\n",
    "print(\"torch.cuda.memory_allocated: %fGB\"%(torch.cuda.memory_allocated(0)/1024/1024/1024))"
   ]
  },
  {
   "cell_type": "code",
   "execution_count": 11,
   "metadata": {},
   "outputs": [
    {
     "name": "stdout",
     "output_type": "stream",
     "text": [
      "torch.cuda.memory_allocated: 0.015869GB\n"
     ]
    }
   ],
   "source": [
    "#second empty_cache will free unused memory, if it's necessary\n",
    "train_features, train_lables = None, None\n",
    "net = None\n",
    "loss = None\n",
    "optimizer = None\n",
    "\n",
    "torch.cuda.empty_cache()\n",
    "print(\"torch.cuda.memory_allocated: %fGB\"%(torch.cuda.memory_allocated(0)/1024/1024/1024))"
   ]
  },
  {
   "cell_type": "markdown",
   "metadata": {},
   "source": [
    "#### not all memory was relised, but if you(apparenly torch handle this memory for reuse it with same targets) \n",
    "#### because if we initalize model again, we won't see double increasing of memory"
   ]
  },
  {
   "cell_type": "code",
   "execution_count": 13,
   "metadata": {},
   "outputs": [
    {
     "name": "stdout",
     "output_type": "stream",
     "text": [
      "torch.cuda.memory_allocated: 0.015875GB\n"
     ]
    }
   ],
   "source": [
    "net = FCN(3, 2).to(device=device)\n",
    "print(\"torch.cuda.memory_allocated: %fGB\"%(torch.cuda.memory_allocated(0)/1024/1024/1024))"
   ]
  }
 ],
 "metadata": {
  "kernelspec": {
   "display_name": "Python 3 (ipykernel)",
   "language": "python",
   "name": "python3"
  },
  "language_info": {
   "codemirror_mode": {
    "name": "ipython",
    "version": 3
   },
   "file_extension": ".py",
   "mimetype": "text/x-python",
   "name": "python",
   "nbconvert_exporter": "python",
   "pygments_lexer": "ipython3",
   "version": "3.11.8"
  }
 },
 "nbformat": 4,
 "nbformat_minor": 4
}
